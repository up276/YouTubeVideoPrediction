{
 "cells": [
  {
   "cell_type": "code",
   "execution_count": 1,
   "metadata": {
    "collapsed": true
   },
   "outputs": [],
   "source": [
    "import pandas as pd\n",
    "import numpy as np\n",
    "from pprint import pprint\n",
    "from __future__ import print_function\n",
    "from time import time\n",
    "import datetime\n",
    "import logging\n",
    "import matplotlib\n",
    "import matplotlib.pyplot as plt\n",
    "\n",
    "from pandas import Series, DataFrame\n",
    "from sklearn.cross_validation import train_test_split\n",
    "from sklearn.tree import DecisionTreeClassifier\n",
    "\n",
    "from sklearn import svm\n",
    "from sklearn import metrics\n",
    "from sklearn.metrics import roc_curve, auc\n",
    "from sklearn import linear_model\n",
    "\n",
    "from sklearn.feature_extraction.text import CountVectorizer\n",
    "from sklearn.feature_extraction.text import TfidfVectorizer\n",
    "from sklearn.feature_extraction.text import TfidfTransformer\n",
    "from sklearn.linear_model import LogisticRegression\n",
    "from sklearn.naive_bayes import BernoulliNB\n",
    "from sklearn.naive_bayes import MultinomialNB\n",
    "from sklearn.linear_model import LogisticRegression\n",
    "from sklearn.ensemble import RandomForestClassifier\n",
    "\n",
    "from sklearn.linear_model import SGDClassifier\n",
    "from sklearn.grid_search import GridSearchCV\n",
    "from sklearn.pipeline import Pipeline\n",
    "from sklearn.svm import LinearSVC, SVC\n",
    "\n",
    "%matplotlib inline\n"
   ]
  },
  {
   "cell_type": "code",
   "execution_count": 2,
   "metadata": {
    "collapsed": true
   },
   "outputs": [],
   "source": [
    "def load_data():\n",
    "    dataframe = pd.read_csv('data/train_sample.csv')\n",
    "    df_reindex = dataframe.reindex(np.random.permutation(dataframe.index))\n",
    "    return df_reindex\n",
    "\n",
    "def clean_data(data):\n",
    "    '''\n",
    "    remove unwanted colums, convert catagorical data into numeric data\n",
    "    dimension : 2d -> 1 , 3d -> 0\n",
    "    definition :: hd -> 1 , sd -> 0\n",
    "    caption : True -> 1 , False -> 0\n",
    "    licensedContent : True -> 1 , False -> 0\n",
    "    '''\n",
    "    data['dimension'] = (data['dimension'] == '2d')*1\n",
    "    data['definition'] = (data['definition'] == 'hd')*1\n",
    "    data['caption'] = (data['caption'])*1\n",
    "    data['licensedContent'] = (data['licensedContent'])*1\n",
    "    return data\n",
    "\n",
    "def remove_irrelavent_features(data):\n",
    "    #As we can see from the feature Importances that \"favoriteCount\" and \"dimension\" have 0 importance. So we can just ignore these features\n",
    "    df = data.drop('favoriteCount',axis = 1 )\n",
    "    df = df.drop('dimension',axis = 1 )\n",
    "    return df\n",
    "\n",
    "def clean_duration(input_data):\n",
    "    duration = input_data[\"duration\"]\n",
    "    duration2 = input_data[\"duration\"]\n",
    "    #duration_df = pd.DataFrame(duration2)\n",
    "    #print duration\n",
    "    duration_time = duration.str.split('PT')\n",
    "    test1 = duration_time.str[1]\n",
    "    #print test1\n",
    "    duration_dummy = duration\n",
    "    test2 = test1.str.split('S').str[0]\n",
    "\n",
    "    seconds = test2.str.split('M').str[1]\n",
    "    seconds[:] = ['00' if x == '' else x for x in seconds]\n",
    "    seconds[:] = ['00' if x == 'nan' else x for x in seconds]\n",
    "    #print '\\n\\nSECONDS'\n",
    "    #print seconds\n",
    "\n",
    "    test3 = test2.str.split('M').str[0]\n",
    "    minutes = test1\n",
    "\n",
    "    minutes[:] = [x.split('H')[1] if 'H' in x else x for x in test3]\n",
    "    minutes[:] = ['00' if x == '' or x == 'nan' else x for x in minutes]\n",
    "    minutes[:] = ['00' if x == 'nan' else x for x in minutes]\n",
    "    hours = duration_dummy\n",
    "\n",
    "    hours[:] = [x.split('H')[0] if 'H' in x else '00' for x in test3]\n",
    "    hours[:] = ['00' if x == '' or x == 'nan' else x for x in hours]\n",
    "    hours[:] = ['00' if x == 'nan' else x for x in hours]\n",
    "\n",
    "    minutes_in_sec = list()\n",
    "    minutes_in_sec [:] = [int(x)*60 for x in minutes]\n",
    "\n",
    "    hours_in_sec = list()\n",
    "    hours_in_sec [:] = [int(x)*3600 for x in hours]\n",
    "\n",
    "    duration_in_sec = list()\n",
    "\n",
    "    for i in range(len(duration)):\n",
    "        duration_in_sec.append(hours_in_sec[i]+minutes_in_sec[i]+int(seconds[i]))\n",
    "\n",
    "    #duration_df['duration_in_sec'] = duration_in_sec\n",
    "    #category = input_data['video_category_id']\n",
    "    #duration_df['video_category_id'] = category\n",
    "    input_data['duration_in_sec'] = duration_in_sec\n",
    "    return input_data\n",
    "\n",
    "\n",
    "def clean_published(input_data):\n",
    "    published=input_data['published_at']\n",
    "    date_string_1=published.str.split('.').str[0]\n",
    "\n",
    "    date1=date_string_1.str.split('T').str[0]\n",
    "    time1=date_string_1.str.split('T').str[1]\n",
    "\n",
    "    published_dates=date1 + \" \" + time1\n",
    "    \n",
    "    published_dates = pd.to_datetime(published_dates)\n",
    "    input_data['published_date'] = published_dates  \n",
    "    \n",
    "    input_data['weekday'] = np.where(input_data['published_date'].dt.dayofweek <= 4, 1, 0)\n",
    "    #published_df['weekend'] = np.where(published_df['published_date'].dt.dayofweek <= 4, 0, 1)\n",
    "    input_data['quarter'] = input_data['published_date'].dt.quarter\n",
    "\n",
    "    #Winter is Dec-Feb   Spring is Mar-Apr    Summer is May-Aug    Fall is Sep-Nov\n",
    "    input_data['winter'] = input_data.published_date.dt.month.map( lambda x: 1 if x == 12 or x == 1 or x == 2 else 0)\n",
    "    input_data['summer'] = input_data.published_date.dt.month.map( lambda x: 1 if x == 5 or x == 6 or x == 7 or x == 8 else 0)\n",
    "    input_data['spring'] = input_data.published_date.dt.month.map( lambda x: 1 if x == 3 or x == 4 else 0)\n",
    "    input_data['fall'] = input_data.published_date.dt.month.map( lambda x: 1 if x == 9 or x == 10 or x == 11 else 0)\n",
    "\n",
    "    input_data['is_month_start'] = np.where(input_data['published_date'].dt.is_month_start == True, 1, 0)\n",
    "    input_data['is_month_end'] = np.where(input_data['published_date'].dt.is_month_end == True, 1, 0)\n",
    "\n",
    "    input_data['late_night'] = input_data.published_date.dt.hour.map( lambda x: 1 if x > 0 and x < 6 else 0)\n",
    "    input_data['early_morning'] = input_data.published_date.dt.hour.map( lambda x: 1 if x > 5 and x < 12 else 0)\n",
    "    input_data['day'] = input_data.published_date.dt.hour.map( lambda x: 1 if x > 11 and x < 18 else 0)\n",
    "    input_data['night'] = input_data.published_date.dt.hour.map( lambda x: 1 if x > 17 else 0)\n",
    "    \n",
    "    dt1 = datetime.datetime.strptime('2015-12-10', \"%Y-%m-%d\")\n",
    "    input_data['new_date'] = dt1 - input_data['published_date']\n",
    "    age = list()\n",
    "    for i in range(len(published)):\n",
    "        age.append(int(str(input_data['new_date'][i]).split(' ')[0]))\n",
    "    input_data['age'] = age\n",
    "    return input_data\n"
   ]
  },
  {
   "cell_type": "code",
   "execution_count": 3,
   "metadata": {
    "collapsed": false
   },
   "outputs": [
    {
     "name": "stderr",
     "output_type": "stream",
     "text": [
      "/Users/NikitaAmartya/anaconda/lib/python2.7/site-packages/ipykernel/__main__.py:51: SettingWithCopyWarning: \n",
      "A value is trying to be set on a copy of a slice from a DataFrame\n",
      "\n",
      "See the the caveats in the documentation: http://pandas.pydata.org/pandas-docs/stable/indexing.html#indexing-view-versus-copy\n"
     ]
    }
   ],
   "source": [
    "firstLoad_df = load_data()\n",
    "cleaned_df = clean_data(firstLoad_df)\n",
    "cleaned_df = remove_irrelavent_features(cleaned_df)\n",
    "durationCleaned_df = clean_duration(cleaned_df)\n",
    "publish_df = clean_published(durationCleaned_df)"
   ]
  },
  {
   "cell_type": "code",
   "execution_count": 4,
   "metadata": {
    "collapsed": false
   },
   "outputs": [],
   "source": [
    "publish_df['description'].fillna('No description', inplace=True)\n",
    "working_df = publish_df"
   ]
  },
  {
   "cell_type": "code",
   "execution_count": 5,
   "metadata": {
    "collapsed": false
   },
   "outputs": [],
   "source": [
    "# Split into train-test data set\n",
    "target_var = \"video_category_id\"\n",
    "predictor_var = [\"title\", \"description\", \"viewCount\", \n",
    "                 \"likeCount\", \"dislikeCount\",\"commentCount\",\n",
    "                 \"definition\", \"caption\",\"duration_in_sec\",\n",
    "                 \"weekday\", \"quarter\", \"winter\",\"summer\",\"spring\",\n",
    "                 \"fall\",\"late_night\",\"early_morning\",\"day\",\"night\",\n",
    "                 \"is_month_start\",\"is_month_end\",\"age\"]  \n",
    "\n",
    "X = working_df[[x for x in working_df.columns if x in predictor_var]]\n",
    "Y = working_df[[x for x in working_df.columns if x in target_var]]\n",
    "X_train, X_test, Y_train, Y_test = train_test_split(X, Y, train_size = 0.80, random_state = 10)"
   ]
  },
  {
   "cell_type": "code",
   "execution_count": 6,
   "metadata": {
    "collapsed": true
   },
   "outputs": [],
   "source": [
    "numeric_cols = [\"viewCount\", \"likeCount\", \"dislikeCount\",\"commentCount\", \"definition\", \n",
    "                \"caption\",\"duration_in_sec\", \"weekday\", \"quarter\", \"winter\",\"summer\",\n",
    "                \"spring\",\"fall\",\"late_night\",\"early_morning\",\"day\",\"night\",\"is_month_start\",\"is_month_end\",\"age\"]\n",
    "\n",
    "X_train_text = X_train[[x for x in X_train.columns if x in ('title', 'description')]]\n",
    "X_train_numeric = X_train[[x for x in X_train.columns if x in numeric_cols]]\n",
    "\n",
    "X_test_text = X_test[[x for x in X_test.columns if x in ('title', 'description')]]\n",
    "X_test_numeric =  X_test[[x for x in X_test.columns if x in numeric_cols]]\n"
   ]
  },
  {
   "cell_type": "code",
   "execution_count": 56,
   "metadata": {
    "collapsed": false
   },
   "outputs": [],
   "source": [
    "def binary_tree_analysis(X_train, Y_train, X_test, Y_test):\n",
    "        \n",
    "    decision_tree = DecisionTreeClassifier(criterion=\"entropy\", min_samples_split= 2, min_samples_leaf= 128 )\n",
    "    decision_tree.fit(X_train, Y_train)\n",
    "    #plot importance graph\n",
    "    columnList = [x for x in X_train.columns]\n",
    "    f_importance = DataFrame(decision_tree.feature_importances_, columns = [\"Importance\"],\n",
    "                         index = columnList).sort(['Importance'], ascending = False)\n",
    "    plt.figure() \n",
    "    f_importance.plot(kind='bar');\n",
    "    \n",
    "    print (\"Accuracy on train df = %.3f\" % metrics.accuracy_score(decision_tree.predict(X_train), Y_train))\n",
    "    print (\"Accuracy on test df = %.3f\" % metrics.accuracy_score(decision_tree.predict(X_test), Y_test))\n",
    "    result_numeric_test = decision_tree.predict(X_test)\n",
    "    return decision_tree"
   ]
  },
  {
   "cell_type": "code",
   "execution_count": 57,
   "metadata": {
    "collapsed": false
   },
   "outputs": [
    {
     "name": "stdout",
     "output_type": "stream",
     "text": [
      "Accuracy on train df = 0.311\n",
      "Accuracy on test df = 0.289\n"
     ]
    },
    {
     "data": {
      "text/plain": [
       "<matplotlib.figure.Figure at 0x1170e6a10>"
      ]
     },
     "metadata": {},
     "output_type": "display_data"
    },
    {
     "data": {
      "image/png": "[encoded data removed]",
      "text/plain": [
       "<matplotlib.figure.Figure at 0x1170e6550>"
      ]
     },
     "metadata": {},
     "output_type": "display_data"
    }
   ],
   "source": [
    "tree_numeric = binary_tree_analysis(X_train_numeric, Y_train, X_test_numeric, Y_test)\n",
    "\n",
    "result_numeric_train = tree_numeric.predict(X_train_numeric)\n",
    "result_numeric_test = tree_numeric.predict(X_test_numeric)"
   ]
  },
  {
   "cell_type": "code",
   "execution_count": 21,
   "metadata": {
    "collapsed": false,
    "scrolled": true
   },
   "outputs": [
    {
     "name": "stderr",
     "output_type": "stream",
     "text": [
      "/Users/NikitaAmartya/anaconda/lib/python2.7/site-packages/ipykernel/__main__.py:5: SettingWithCopyWarning: \n",
      "A value is trying to be set on a copy of a slice from a DataFrame\n",
      "\n",
      "See the the caveats in the documentation: http://pandas.pydata.org/pandas-docs/stable/indexing.html#indexing-view-versus-copy\n",
      "/Users/NikitaAmartya/anaconda/lib/python2.7/site-packages/ipykernel/__main__.py:6: SettingWithCopyWarning: \n",
      "A value is trying to be set on a copy of a slice from a DataFrame\n",
      "\n",
      "See the the caveats in the documentation: http://pandas.pydata.org/pandas-docs/stable/indexing.html#indexing-view-versus-copy\n"
     ]
    }
   ],
   "source": [
    "#DROP THE UNWANTED COLUMNS\n",
    "\n",
    "columns_to_drop = [\"winter\",\"summer\",\"spring\",\"fall\",\"late_night\",\n",
    "                   \"early_morning\",\"day\",\"is_month_start\",\"is_month_end\"]  \n",
    "for x in columns_to_drop :\n",
    "    X_train_numeric.drop(x, axis=1, inplace=True)\n",
    "    X_test_numeric.drop(x, axis=1, inplace=True)"
   ]
  },
  {
   "cell_type": "code",
   "execution_count": 14,
   "metadata": {
    "collapsed": true
   },
   "outputs": [],
   "source": [
    "from sklearn.ensemble import RandomForestClassifier\n",
    "\n",
    "def random_forest_analysis(X_train_numeric, Y_train, X_test_numeric, Y_test):\n",
    "        \n",
    "    random_forest = RandomForestClassifier(min_samples_split= 2 ,min_samples_leaf= 128, n_estimators = 30)\n",
    "    random_forest.fit(X_train_numeric, Y_train)\n",
    "\n",
    "    #Feature Importances\n",
    "    #importances = decision_tree.feature_importances_\n",
    "    #x_values=np.arange(1,21)\n",
    "    #plt.figure(figsize=(8,15))\n",
    "    #plt.bar(x_values,importances)\n",
    "    #plt.xticks(x_values,numeric_cols, rotation='vertical')\n",
    "    #plt.show()\n",
    "    \n",
    "    print (\"Accuracy on train df = %.3f\" % metrics.accuracy_score(random_forest.predict(X_train_numeric), Y_train))\n",
    "    print (\"Accuracy on test df = %.3f\" % metrics.accuracy_score(random_forest.predict(X_test_numeric), Y_test))\n",
    "    #print X_train_numeric.corr()\n",
    "    \n",
    "    return random_forest.predict(X_train_numeric)"
   ]
  },
  {
   "cell_type": "code",
   "execution_count": 15,
   "metadata": {
    "collapsed": false
   },
   "outputs": [
    {
     "name": "stdout",
     "output_type": "stream",
     "text": [
      "Accuracy on train df = 0.326\n",
      "Accuracy on test df = 0.305\n"
     ]
    },
    {
     "name": "stderr",
     "output_type": "stream",
     "text": [
      "/Users/NikitaAmartya/anaconda/lib/python2.7/site-packages/ipykernel/__main__.py:6: DataConversionWarning: A column-vector y was passed when a 1d array was expected. Please change the shape of y to (n_samples,), for example using ravel().\n"
     ]
    }
   ],
   "source": [
    "result_numeric = random_forest_analysis(X_train_numeric, Y_train, X_test_numeric, Y_test)"
   ]
  },
  {
   "cell_type": "markdown",
   "metadata": {},
   "source": [
    "########### Code in next 6 cells needs work ########"
   ]
  },
  {
   "cell_type": "code",
   "execution_count": 16,
   "metadata": {
    "collapsed": true
   },
   "outputs": [],
   "source": [
    "#TODO\n",
    "# Grid Search function --> Testing one pipeline for various parameters\n",
    "\n",
    "def performGridSearch(X_train, Y_train, model, pipeline, parameters):\n",
    "    \n",
    "    grid_search = GridSearchCV(pipeline, parameters, n_jobs=-1, verbose=1)\n",
    "    \n",
    "    print(\"Performing grid search for {}\".format(model))\n",
    "    print(\"pipeline:\", [name for name, _ in pipeline.steps])\n",
    "    print(\"parameters:\")\n",
    "    pprint(parameters)\n",
    "    prob_title = grid_search.fit(X_train, Y_train)\n",
    "\n",
    "    print()\n",
    "\n",
    "    print(\"Best score for %s : %0.3f\" % (model, grid_search.best_score_))\n",
    "    print(\"Best parameters set:\")\n",
    "    best_parameters = grid_search.best_estimator_.get_params()\n",
    "    for param_name in sorted(parameters.keys()):\n",
    "        print(\"\\t%s: %r\" % (param_name, best_parameters[param_name]))\n",
    "    \n",
    "    return grid_search"
   ]
  },
  {
   "cell_type": "code",
   "execution_count": 17,
   "metadata": {
    "collapsed": true
   },
   "outputs": [],
   "source": [
    "#TODO\n",
    "# Test various model in performGridSearchCV \n",
    "\n",
    "def compareModelsGridSearch(X_train, Y_train, model_list, pipeline_list, parameters_list):\n",
    "    \n",
    "    for i in range(len(model_list)):\n",
    "        performGridSearch(X_train, Y_train, model_list[i], pipeline[i], parameters[i])\n",
    "    \n",
    "    return True"
   ]
  },
  {
   "cell_type": "code",
   "execution_count": 18,
   "metadata": {
    "collapsed": true
   },
   "outputs": [],
   "source": [
    "# I am not sure about its usage with gridsearchcv\n",
    "corpus_title = X_train_text['title'].values.tolist()\n",
    "corpus_description = X_train_text['description'].values.tolist()"
   ]
  },
  {
   "cell_type": "code",
   "execution_count": 19,
   "metadata": {
    "collapsed": true
   },
   "outputs": [],
   "source": [
    "# create pipelines and parameters here\n",
    "\n",
    "pipeline = Pipeline([    \n",
    "    ('vect', CountVectorizer()),      \n",
    "    ('tfidf', TfidfTransformer()),    \n",
    "    ('clf', SGDClassifier()),        \n",
    "    #('logreg', LogisticRegression()),        \n",
    "    #('classifier', MultinomialNB())       \n",
    "])\n",
    "\n",
    "parameters = {\n",
    "    'vect__max_df': (0.5, 0.75, 1.0),\n",
    "    #'vect__max_features': (None, 5000, 10000, 50000),\n",
    "    'vect__ngram_range': ((1, 1), (1, 2)),  # unigrams or bigrams\n",
    "    #'tfidf__use_idf': (True, False),\n",
    "    #'tfidf__norm': ('l1', 'l2'),\n",
    "    'clf__alpha': (0.00001, 0.000001),\n",
    "    'clf__penalty': ('l2', 'elasticnet'),\n",
    "    #'clf__n_iter': (10, 50, 80),\n",
    "}"
   ]
  },
  {
   "cell_type": "code",
   "execution_count": 20,
   "metadata": {
    "collapsed": false
   },
   "outputs": [
    {
     "name": "stdout",
     "output_type": "stream",
     "text": [
      "Performing grid search for title...\n",
      "pipeline: ['vect', 'tfidf', 'clf']\n",
      "parameters:\n",
      "{'clf__alpha': (1e-05, 1e-06),\n",
      " 'clf__penalty': ('l2', 'elasticnet'),\n",
      " 'vect__max_df': (0.5, 0.75, 1.0),\n",
      " 'vect__ngram_range': ((1, 1), (1, 2))}\n",
      "Fitting 3 folds for each of 24 candidates, totalling 72 fits\n"
     ]
    },
    {
     "name": "stderr",
     "output_type": "stream",
     "text": [
      "[Parallel(n_jobs=-1)]: Done   1 jobs       | elapsed:    9.2s\n",
      "[Parallel(n_jobs=-1)]: Done  50 jobs       | elapsed:  4.0min\n",
      "[Parallel(n_jobs=-1)]: Done  66 out of  72 | elapsed:  5.6min remaining:   30.5s\n",
      "[Parallel(n_jobs=-1)]: Done  72 out of  72 | elapsed:  6.0min finished\n"
     ]
    },
    {
     "name": "stdout",
     "output_type": "stream",
     "text": [
      "done in 378.527s\n",
      "\n",
      "Best score for title: 0.652\n",
      "Best parameters set:\n",
      "\tclf__alpha: 1e-05\n",
      "\tclf__penalty: 'l2'\n",
      "\tvect__max_df: 0.5\n",
      "\tvect__ngram_range: (1, 2)\n"
     ]
    }
   ],
   "source": [
    "grid_search_title = GridSearchCV(pipeline, parameters, n_jobs=-1, verbose=1)\n",
    "    \n",
    "print(\"Performing grid search for title...\")\n",
    "print(\"pipeline:\", [name for name, _ in pipeline.steps])\n",
    "print(\"parameters:\")\n",
    "pprint(parameters)\n",
    "t0 = time()\n",
    "prob_title = grid_search_title.fit(X_train_text['title'], Y_train['video_category_id'])\n",
    "    \n",
    "print(\"done in %0.3fs\" % (time() - t0))\n",
    "print()\n",
    "\n",
    "print(\"Best score for title: %0.3f\" % grid_search_title.best_score_)\n",
    "print(\"Best parameters set:\")\n",
    "best_parameters_title = grid_search_title.best_estimator_.get_params()\n",
    "for param_name in sorted(parameters.keys()):\n",
    "    print(\"\\t%s: %r\" % (param_name, best_parameters_title[param_name]))"
   ]
  },
  {
   "cell_type": "code",
   "execution_count": 23,
   "metadata": {
    "collapsed": false
   },
   "outputs": [
    {
     "name": "stdout",
     "output_type": "stream",
     "text": [
      "Performing grid search for description...\n",
      "pipeline: ['vect', 'tfidf', 'clf']\n",
      "parameters:\n",
      "{'clf__alpha': (1e-05, 1e-06),\n",
      " 'clf__penalty': ('l2', 'elasticnet'),\n",
      " 'vect__max_df': (0.5, 0.75, 1.0),\n",
      " 'vect__ngram_range': ((1, 1), (1, 2))}\n",
      "Fitting 3 folds for each of 24 candidates, totalling 72 fits\n"
     ]
    },
    {
     "name": "stderr",
     "output_type": "stream",
     "text": [
      "[Parallel(n_jobs=-1)]: Done   1 jobs       | elapsed:   21.3s\n",
      "[Parallel(n_jobs=-1)]: Done  50 jobs       | elapsed:  8.9min\n",
      "[Parallel(n_jobs=-1)]: Done  66 out of  72 | elapsed: 12.6min remaining:  1.1min\n",
      "[Parallel(n_jobs=-1)]: Done  72 out of  72 | elapsed: 13.6min finished\n"
     ]
    },
    {
     "name": "stdout",
     "output_type": "stream",
     "text": [
      "done in 856.861s\n",
      "\n",
      "Best score for description: 0.683\n",
      "Best parameters set:\n",
      "\tclf__alpha: 1e-05\n",
      "\tclf__penalty: 'l2'\n",
      "\tvect__max_df: 0.5\n",
      "\tvect__ngram_range: (1, 2)\n"
     ]
    }
   ],
   "source": [
    "grid_search_description = GridSearchCV(pipeline, parameters, n_jobs=-1, verbose=1)\n",
    "print(\"Performing grid search for description...\")\n",
    "print(\"pipeline:\", [name for name, _ in pipeline.steps])\n",
    "print(\"parameters:\")\n",
    "pprint(parameters)\n",
    "t0 = time()\n",
    "prob_description = grid_search_description.fit(X_train_text['description'], Y_train['video_category_id'])\n",
    "print(\"done in %0.3fs\" % (time() - t0))\n",
    "print() \n",
    "print(\"Best score for description: %0.3f\" % grid_search_description.best_score_)\n",
    "print(\"Best parameters set:\")\n",
    "best_parameters_description = grid_search_description.best_estimator_.get_params()\n",
    "for param_name in sorted(parameters.keys()):\n",
    "    print(\"\\t%s: %r\" % (param_name, best_parameters_description[param_name]))"
   ]
  },
  {
   "cell_type": "code",
   "execution_count": 24,
   "metadata": {
    "collapsed": true
   },
   "outputs": [],
   "source": [
    "result_title_train = grid_search_title.predict(X_train_text['title'])\n",
    "result_title_test = grid_search_title.predict(X_test_text['title'])"
   ]
  },
  {
   "cell_type": "code",
   "execution_count": 25,
   "metadata": {
    "collapsed": true
   },
   "outputs": [],
   "source": [
    "result_description_train = grid_search_title.predict(X_train_text['description'])\n",
    "result_description_test = grid_search_title.predict(X_test_text['description'])"
   ]
  },
  {
   "cell_type": "code",
   "execution_count": 26,
   "metadata": {
    "collapsed": false
   },
   "outputs": [],
   "source": [
    "def createFinalDataFrame(numeric,title,description,original_Y):\n",
    "    df_n = pd.DataFrame(numeric)\n",
    "    df_n.columns = ['numericP']\n",
    "    df_t = pd.DataFrame(title)\n",
    "    df_t.columns = ['titleP']\n",
    "    df_d = pd.DataFrame(description)\n",
    "    df_d.columns = ['descriptionP']\n",
    "    df_y = original_Y\n",
    "    resetdf_y = df_y.reset_index()\n",
    "    result_df = pd.concat([df_n, df_t, df_d, resetdf_y], axis=1)\n",
    "    return result_df\n"
   ]
  },
  {
   "cell_type": "code",
   "execution_count": 27,
   "metadata": {
    "collapsed": false
   },
   "outputs": [],
   "source": [
    "result_train = createFinalDataFrame(result_numeric_train,result_title_train,result_description_train,Y_train)\n",
    "result_test = createFinalDataFrame(result_numeric_test,result_title_test,result_description_test,Y_test)"
   ]
  },
  {
   "cell_type": "code",
   "execution_count": 54,
   "metadata": {
    "collapsed": false
   },
   "outputs": [],
   "source": [
    "target_var = \"video_category_id\"\n",
    "predictor_var = ['numericP','titleP','descriptionP']\n",
    "X_train = result_train[[x for x in result_train.columns if x in predictor_var]]\n",
    "Y_train = result_train[[x for x in result_train.columns if x in target_var]]\n",
    "    \n",
    "X_test = result_test[[x for x in result_test.columns if x in predictor_var]]\n",
    "Y_test = result_test[[x for x in result_test.columns if x in target_var]]   "
   ]
  },
  {
   "cell_type": "code",
   "execution_count": 58,
   "metadata": {
    "collapsed": false
   },
   "outputs": [
    {
     "name": "stdout",
     "output_type": "stream",
     "text": [
      "Accuracy on train df = 0.942\n",
      "Accuracy on test df = 0.665\n"
     ]
    },
    {
     "data": {
      "text/plain": [
       "<matplotlib.figure.Figure at 0x119c33ad0>"
      ]
     },
     "metadata": {},
     "output_type": "display_data"
    },
    {
     "data": {
      "image/png": "[encoded data removed]",
      "text/plain": [
       "<matplotlib.figure.Figure at 0x129cacc10>"
      ]
     },
     "metadata": {},
     "output_type": "display_data"
    }
   ],
   "source": [
    "final_result = binary_tree_analysis(X_train,Y_train,X_test,Y_test)"
   ]
  }
 ],
 "metadata": {
  "kernelspec": {
   "display_name": "Python 2",
   "language": "python",
   "name": "python2"
  },
  "language_info": {
   "codemirror_mode": {
    "name": "ipython",
    "version": 2
   },
   "file_extension": ".py",
   "mimetype": "text/x-python",
   "name": "python",
   "nbconvert_exporter": "python",
   "pygments_lexer": "ipython2",
   "version": "2.7.10"
  }
 },
 "nbformat": 4,
 "nbformat_minor": 0
}
